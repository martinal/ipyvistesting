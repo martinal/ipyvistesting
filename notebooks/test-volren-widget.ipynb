{
 "cells": [
  {
   "cell_type": "code",
   "execution_count": 1,
   "metadata": {
    "collapsed": true
   },
   "outputs": [],
   "source": [
    "# Sketch of possible interface for PT code\n",
    "# with FEniCS on one side and a Jupyter widget\n",
    "# using THREE.js/WebGL on the other side.\n",
    "# Most names here are quickly invented without\n",
    "# too much thought, so feel free to use other\n",
    "# names or modify the interface\n",
    "\n",
    "# Some initial imports\n",
    "from IPython.display import display\n",
    "import ipywidgets as widgets\n",
    "import numpy as np\n",
    "\n",
    "import pythreejs\n",
    "from pythreejs import Renderer, Scene, Mesh\n",
    "from pythreejs import OrthographicCamera, PerspectiveCamera, OrbitControls"
   ]
  },
  {
   "cell_type": "code",
   "execution_count": 2,
   "metadata": {
    "collapsed": true
   },
   "outputs": [],
   "source": [
    "# Define mesh and attributes directly\n",
    "vertices = np.asarray([\n",
    "    (0.0, 0.0, 0.0),\n",
    "    (1.0, 0.0, 0.0),\n",
    "    (1.0, 1.1, 0.0),\n",
    "    ], dtype=\"float32\")\n",
    "num_vertices = vertices.shape[0]\n",
    "\n",
    "triangles = np.asarray([\n",
    "    (0, 1, 2),\n",
    "    ], dtype=\"int32\")\n",
    "num_triangles = triangles.shape[0]\n",
    "\n",
    "attributes = {}\n",
    "attributes[\"f_front\"] = np.asarray([0.0, 0.1, 0.2], dtype=\"float32\")\n",
    "attributes[\"f_back\"]  = np.asarray([0.9, 0.8, 0.7], dtype=\"float32\")\n",
    "attributes[\"s_front\"] = np.asarray([1.0, 0.5, 0.5], dtype=\"float32\")\n",
    "attributes[\"s_back\"]  = np.asarray([0.0, 0.5, 0.5], dtype=\"float32\")\n",
    "\n",
    "uniforms = {\n",
    "    \"time\": 0.0,\n",
    "    \"f_min\": 0.0,\n",
    "    \"f_max\": 1.0,\n",
    "    #\"color\": [1.0, 1.0, 1.0],\n",
    "    }\n",
    "\n",
    "# TODO: Preintegrated textures\n",
    "\n",
    "# Define shaders directly\n",
    "vertexShader = \"\"\"\n",
    "//attribute vec4 aColor;\n",
    "\n",
    "//attribute float f_front;\n",
    "//attribute float f_back;\n",
    "//attribute float s_front;\n",
    "//attribute float s_back;\n",
    "\n",
    "varying vec4 vColor;\n",
    "\n",
    "void main() {\n",
    "    //vColor = aColor;\n",
    "    vColor = vec4(pow(sin(position.x), 2.0), 0.0, 0.0, 1.0);\n",
    "    gl_Position = projectionMatrix * modelViewMatrix * vec4(position, 1.0);\n",
    "}\n",
    "\"\"\"\n",
    "\n",
    "fragmentShader = \"\"\"\n",
    "uniform float time;\n",
    "uniform float f_min;\n",
    "uniform float f_max;\n",
    "\n",
    "varying vec4 vColor;\n",
    "\n",
    "void main(){\n",
    "    vec2 resolution = vec2(10, 10); // TODO\n",
    "    vec2 uv = gl_FragCoord.xy / resolution.xy;\n",
    "//    vec4 tmpPos = texture2D( texturePosition, uv );\n",
    "\n",
    "    //if (vColor.a < 0.01)\n",
    "    //    discard;\n",
    "\n",
    "    vec4 c = vColor.rgba;\n",
    "    c.r *= sin(time);\n",
    "    c.g *= f_min;\n",
    "    c.b *= f_max;\n",
    "\n",
    "    gl_FragColor = vec4(1.0, sin(uv.x)*sin(uv.y), 0.0, 1.0);\n",
    "}\n",
    "\"\"\""
   ]
  },
  {
   "cell_type": "code",
   "execution_count": 3,
   "metadata": {
    "collapsed": true
   },
   "outputs": [],
   "source": [
    "# Setup widget using THREE.js and WebGL backend for rendering\n",
    "from volrenwidget import *"
   ]
  },
  {
   "cell_type": "code",
   "execution_count": 4,
   "metadata": {
    "collapsed": true
   },
   "outputs": [],
   "source": [
    "material = VolRenMaterial(\n",
    "    vertexShader=vertexShader,\n",
    "    fragmentShader=fragmentShader,\n",
    "    **uniforms)"
   ]
  },
  {
   "cell_type": "code",
   "execution_count": 5,
   "metadata": {},
   "outputs": [
    {
     "data": {
      "text/plain": [
       "\u001b[0;31mInit signature:\u001b[0m \u001b[0mpythreejs\u001b[0m\u001b[0;34m.\u001b[0m\u001b[0mPlainBufferGeometry\u001b[0m\u001b[0;34m(\u001b[0m\u001b[0;34m*\u001b[0m\u001b[0margs\u001b[0m\u001b[0;34m,\u001b[0m \u001b[0;34m**\u001b[0m\u001b[0mkwargs\u001b[0m\u001b[0;34m)\u001b[0m\u001b[0;34m\u001b[0m\u001b[0m\n",
       "\u001b[0;31mSource:\u001b[0m        \n",
       "\u001b[0;32mclass\u001b[0m \u001b[0mPlainBufferGeometry\u001b[0m\u001b[0;34m(\u001b[0m\u001b[0mGeometry\u001b[0m\u001b[0;34m)\u001b[0m\u001b[0;34m:\u001b[0m\u001b[0;34m\u001b[0m\n",
       "\u001b[0;34m\u001b[0m    \u001b[0m_view_name\u001b[0m \u001b[0;34m=\u001b[0m \u001b[0mUnicode\u001b[0m\u001b[0;34m(\u001b[0m\u001b[0;34m'PlainBufferGeometryView'\u001b[0m\u001b[0;34m)\u001b[0m\u001b[0;34m.\u001b[0m\u001b[0mtag\u001b[0m\u001b[0;34m(\u001b[0m\u001b[0msync\u001b[0m\u001b[0;34m=\u001b[0m\u001b[0;32mTrue\u001b[0m\u001b[0;34m)\u001b[0m\u001b[0;34m\u001b[0m\n",
       "\u001b[0;34m\u001b[0m    \u001b[0m_model_name\u001b[0m \u001b[0;34m=\u001b[0m \u001b[0mUnicode\u001b[0m\u001b[0;34m(\u001b[0m\u001b[0;34m'PlainBufferGeometryModel'\u001b[0m\u001b[0;34m)\u001b[0m\u001b[0;34m.\u001b[0m\u001b[0mtag\u001b[0m\u001b[0;34m(\u001b[0m\u001b[0msync\u001b[0m\u001b[0;34m=\u001b[0m\u001b[0;32mTrue\u001b[0m\u001b[0;34m)\u001b[0m\u001b[0;34m\u001b[0m\n",
       "\u001b[0;34m\u001b[0m\u001b[0;34m\u001b[0m\n",
       "\u001b[0;34m\u001b[0m    \u001b[0mvertices\u001b[0m \u001b[0;34m=\u001b[0m \u001b[0mArray\u001b[0m\u001b[0;34m(\u001b[0m\u001b[0mdtype\u001b[0m\u001b[0;34m=\u001b[0m\u001b[0;34m'float32'\u001b[0m\u001b[0;34m)\u001b[0m\u001b[0;34m.\u001b[0m\u001b[0mtag\u001b[0m\u001b[0;34m(\u001b[0m\u001b[0msync\u001b[0m\u001b[0;34m=\u001b[0m\u001b[0;32mTrue\u001b[0m\u001b[0;34m,\u001b[0m \u001b[0;34m**\u001b[0m\u001b[0marray_serialization\u001b[0m\u001b[0;34m)\u001b[0m\u001b[0;34m.\u001b[0m\u001b[0mvalid\u001b[0m\u001b[0;34m(\u001b[0m\u001b[0mshape_constraints\u001b[0m\u001b[0;34m(\u001b[0m\u001b[0;32mNone\u001b[0m\u001b[0;34m,\u001b[0m\u001b[0;36m3\u001b[0m\u001b[0;34m)\u001b[0m\u001b[0;34m)\u001b[0m\u001b[0;34m\u001b[0m\n",
       "\u001b[0;34m\u001b[0m    \u001b[0mfaces\u001b[0m \u001b[0;34m=\u001b[0m \u001b[0mArray\u001b[0m\u001b[0;34m(\u001b[0m\u001b[0mdtype\u001b[0m\u001b[0;34m=\u001b[0m\u001b[0;34m'uint32'\u001b[0m\u001b[0;34m,\u001b[0m \u001b[0mdefault_value\u001b[0m\u001b[0;34m=\u001b[0m\u001b[0mnp\u001b[0m\u001b[0;34m.\u001b[0m\u001b[0mempty\u001b[0m\u001b[0;34m(\u001b[0m\u001b[0mshape\u001b[0m\u001b[0;34m=\u001b[0m\u001b[0;34m(\u001b[0m\u001b[0;36m0\u001b[0m\u001b[0;34m,\u001b[0m\u001b[0;36m3\u001b[0m\u001b[0;34m)\u001b[0m\u001b[0;34m,\u001b[0m \u001b[0mdtype\u001b[0m\u001b[0;34m=\u001b[0m\u001b[0;34m'uint32'\u001b[0m\u001b[0;34m)\u001b[0m\u001b[0;34m)\u001b[0m\u001b[0;34m.\u001b[0m\u001b[0mtag\u001b[0m\u001b[0;34m(\u001b[0m\u001b[0msync\u001b[0m\u001b[0;34m=\u001b[0m\u001b[0;32mTrue\u001b[0m\u001b[0;34m,\u001b[0m \u001b[0;34m**\u001b[0m\u001b[0marray_serialization\u001b[0m\u001b[0;34m)\u001b[0m\u001b[0;34m.\u001b[0m\u001b[0mvalid\u001b[0m\u001b[0;34m(\u001b[0m\u001b[0mshape_constraints\u001b[0m\u001b[0;34m(\u001b[0m\u001b[0;32mNone\u001b[0m\u001b[0;34m,\u001b[0m\u001b[0;36m3\u001b[0m\u001b[0;34m)\u001b[0m\u001b[0;34m)\u001b[0m\u001b[0;34m\u001b[0m\n",
       "\u001b[0;34m\u001b[0m    \u001b[0mcolors\u001b[0m \u001b[0;34m=\u001b[0m \u001b[0mArray\u001b[0m\u001b[0;34m(\u001b[0m\u001b[0mdtype\u001b[0m\u001b[0;34m=\u001b[0m\u001b[0;34m'float32'\u001b[0m\u001b[0;34m,\u001b[0m \u001b[0mdefault_value\u001b[0m\u001b[0;34m=\u001b[0m\u001b[0mnp\u001b[0m\u001b[0;34m.\u001b[0m\u001b[0mempty\u001b[0m\u001b[0;34m(\u001b[0m\u001b[0mshape\u001b[0m\u001b[0;34m=\u001b[0m\u001b[0;34m(\u001b[0m\u001b[0;36m0\u001b[0m\u001b[0;34m,\u001b[0m\u001b[0;36m3\u001b[0m\u001b[0;34m)\u001b[0m\u001b[0;34m,\u001b[0m \u001b[0mdtype\u001b[0m\u001b[0;34m=\u001b[0m\u001b[0;34m'float32'\u001b[0m\u001b[0;34m)\u001b[0m\u001b[0;34m,\u001b[0m \u001b[0mhelp\u001b[0m\u001b[0;34m=\u001b[0m\u001b[0;34m\"Vertex colors\"\u001b[0m\u001b[0;34m)\u001b[0m\u001b[0;34m.\u001b[0m\u001b[0mtag\u001b[0m\u001b[0;34m(\u001b[0m\u001b[0msync\u001b[0m\u001b[0;34m=\u001b[0m\u001b[0;32mTrue\u001b[0m\u001b[0;34m,\u001b[0m \u001b[0;34m**\u001b[0m\u001b[0marray_serialization\u001b[0m\u001b[0;34m)\u001b[0m\u001b[0;34m.\u001b[0m\u001b[0mvalid\u001b[0m\u001b[0;34m(\u001b[0m\u001b[0mshape_constraints\u001b[0m\u001b[0;34m(\u001b[0m\u001b[0;32mNone\u001b[0m\u001b[0;34m,\u001b[0m\u001b[0;36m3\u001b[0m\u001b[0;34m)\u001b[0m\u001b[0;34m)\u001b[0m\u001b[0;34m\u001b[0m\u001b[0m\n",
       "\u001b[0;31mFile:\u001b[0m           ~/dev/vislibs/pythreejs/pythreejs/pythreejs.py\n",
       "\u001b[0;31mType:\u001b[0m           MetaHasTraits\n"
      ]
     },
     "metadata": {},
     "output_type": "display_data"
    }
   ],
   "source": [
    "pythreejs.PlainBufferGeometry??"
   ]
  },
  {
   "cell_type": "code",
   "execution_count": 6,
   "metadata": {
    "collapsed": true
   },
   "outputs": [],
   "source": [
    "geometry = VolRenGeometry(\n",
    "    position = vertices,\n",
    "    faces = triangles\n",
    ")\n",
    "\n",
    "unused = \"\"\"\n",
    "material.set_shaders(vertex_shader, fragment_shader)\n",
    "material.set_uniforms(uniforms)\n",
    "geometry.set_mesh(vertices, triangles)\n",
    "geometry.set_attributes(attributes)\n",
    "\"\"\"\n",
    "\n",
    "unused = \"\"\"\n",
    "material.set_all(vertex_shader, fragment_shader, **uniforms)\n",
    "geometry.set_all(vertices, triangles, **attributes)\n",
    "\"\"\""
   ]
  },
  {
   "cell_type": "code",
   "execution_count": 7,
   "metadata": {},
   "outputs": [
    {
     "data": {
      "text/plain": [
       "(('VolRenMaterialModel', 'juypter-volren-widget', '0.1.0'),\n",
       " ('VolRenGeometryModel', 'juypter-volren-widget', '0.1.0'))"
      ]
     },
     "execution_count": 7,
     "metadata": {},
     "output_type": "execute_result"
    }
   ],
   "source": [
    "((material._model_name, material._model_module, material._model_module_version),\n",
    " (geometry._model_name, geometry._model_module, geometry._model_module_version))"
   ]
  },
  {
   "cell_type": "code",
   "execution_count": 8,
   "metadata": {
    "collapsed": true
   },
   "outputs": [],
   "source": [
    "camera_position = [0, 5, 5]\n",
    "camera_up = [0, 0, 1]\n",
    "\n",
    "def camera_changed(*args):\n",
    "    # This is called on interaction, just need to make sense of args\n",
    "    pass # print(\"Camera changed:\", args)\n",
    "\n",
    "mesh = Mesh(geometry=geometry, material=material)\n",
    "\n",
    "scene = Scene(children=[mesh])\n",
    "\n",
    "camera = PerspectiveCamera(\n",
    "    position=camera_position,\n",
    "    up=camera_up)\n",
    "camera.observe(camera_changed)\n",
    "\n",
    "controller = OrbitControls(controlling=camera)\n",
    "\n",
    "renderer = Renderer(camera=camera,\n",
    "                    scene=scene,\n",
    "                    renderer_type=\"webgl\",\n",
    "                    controls=[controller])"
   ]
  },
  {
   "cell_type": "code",
   "execution_count": 9,
   "metadata": {},
   "outputs": [
    {
     "data": {
      "application/vnd.jupyter.widget-view+json": {
       "model_id": "e906e2a56c3e47a5baddf9e79b8e8333"
      }
     },
     "metadata": {},
     "output_type": "display_data"
    }
   ],
   "source": [
    "display(renderer)"
   ]
  },
  {
   "cell_type": "code",
   "execution_count": 12,
   "metadata": {
    "collapsed": true
   },
   "outputs": [],
   "source": [
    "#vertices[:,:] *= 5.0\n",
    "geometry.position = 0.2*vertices\n",
    "#geometry.faces = triangles"
   ]
  },
  {
   "cell_type": "code",
   "execution_count": 13,
   "metadata": {},
   "outputs": [
    {
     "data": {
      "text/plain": [
       "array([[ 0.        ,  0.        ,  0.        ],\n",
       "       [ 0.2       ,  0.        ,  0.        ],\n",
       "       [ 0.2       ,  0.22000001,  0.        ]], dtype=float32)"
      ]
     },
     "execution_count": 13,
     "metadata": {},
     "output_type": "execute_result"
    }
   ],
   "source": [
    "geometry.position"
   ]
  },
  {
   "cell_type": "code",
   "execution_count": null,
   "metadata": {
    "collapsed": true
   },
   "outputs": [],
   "source": [
    "unused = \"\"\"\n",
    "# Setup a fixed dolfin function\n",
    "from dolfin import *\n",
    "mesh = UnitCubeMesh(1, 1, 1)\n",
    "V = FunctionSpace(mesh, \"Lagrange\", 1)\n",
    "e = Expression(\"(x[0]-x0) *(x[1]-x1) * (x[2]-x2)\",\n",
    "               x0=0.5, x1=0.5, x2=0.5, degree=1)\n",
    "f = Function(V)\n",
    "f.interpolate(e)\n",
    "\"\"\"\n",
    "\n",
    "unused = \"\"\"\n",
    "# Compute sorted Projected Tetrahedra triangles\n",
    "from dolfinpt import *\n",
    "pt = ProjectedTetrahedraBuilder()\n",
    "pt.set_mesh(mesh)\n",
    "pt.set_function(f)\n",
    "pt.set_mvp(MVP)\n",
    "\n",
    "\n",
    "# Get shaders from pt object\n",
    "vertex_shader = pt.get_vertex_shader();\n",
    "fragment_shader = pt.get_fragment_shader();\n",
    "\n",
    "# Get coordinates, triangle indices, attributes from pt object\n",
    "coordinates = pt.get_coordinates()\n",
    "triangles = pt.get_triangles()\n",
    "names = pt.get_attribute_names()\n",
    "attributes = { pt.get_attribute(name) for name in pt.get_attribute_names() }\n",
    "uniforms = { pt.get_uniform(name) for name in pt.get_uniform_names() }\n",
    "\"\"\"\n",
    "\n",
    "unused = \"\"\"\n",
    "# Then loop over timesteps and update\n",
    "# display with new function values!\n",
    "for t in np.arange(0.0, 1.0, 10):\n",
    "    e.x0 = 0.5 * t\n",
    "    f.interpolate(e)\n",
    "    pt.update_function(f)\n",
    "\n",
    "    attributes[\"f_front\"][:] = fixme\n",
    "    attributes[\"f_back\"][:] = fixme\n",
    "\n",
    "    vrw.resend([\"f_front\", \"f_back\"])\n",
    "\"\"\""
   ]
  },
  {
   "cell_type": "code",
   "execution_count": null,
   "metadata": {
    "collapsed": true
   },
   "outputs": [],
   "source": [
    "'''\n",
    "from pythreejs import Renderer, Scene, Mesh\n",
    "from pythreejs import OrthographicCamera, PerspectiveCamera, OrbitControls\n",
    "\n",
    "from pythreejs import SphereGeometry, LambertMaterial, AmbientLight, DirectionalLight\n",
    "ball = Mesh(geometry=SphereGeometry(radius=1), \n",
    "                                    material=LambertMaterial(color='red'),\n",
    "                                    position=[2, 1, 0])\n",
    "\n",
    "scene = Scene(children=[ball, AmbientLight(color='#777777')])\n",
    "\n",
    "c = PerspectiveCamera(position=[0, 5, 5], up=[0, 0, 1],\n",
    "                      children=[DirectionalLight(color='white', \n",
    "                                                 position=[3, 5, 1], \n",
    "                                                 intensity=0.5)])\n",
    "renderer = Renderer(camera=c, \n",
    "                    scene=scene, \n",
    "                    controls=[OrbitControls(controlling=c)])\n",
    "display(renderer)\n",
    "'''"
   ]
  }
 ],
 "metadata": {
  "kernelspec": {
   "display_name": "Python 3",
   "language": "python",
   "name": "python3"
  },
  "language_info": {
   "codemirror_mode": {
    "name": "ipython",
    "version": 3
   },
   "file_extension": ".py",
   "mimetype": "text/x-python",
   "name": "python",
   "nbconvert_exporter": "python",
   "pygments_lexer": "ipython3",
   "version": "3.5.2"
  },
  "widgets": {
   "state": {
    "ba216ba5fa454df1be33b92abe80eb7e": {
     "views": [
      {
       "cell_index": 5
      }
     ]
    }
   },
   "version": "1.2.0"
  }
 },
 "nbformat": 4,
 "nbformat_minor": 2
}
