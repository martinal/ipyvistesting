{
 "cells": [
  {
   "cell_type": "code",
   "execution_count": 16,
   "metadata": {
    "collapsed": true
   },
   "outputs": [],
   "source": [
    "# Sketch of possible interface for PT code\n",
    "# with FEniCS on one side and a Jupyter widget\n",
    "# using THREE.js/WebGL on the other side.\n",
    "# Most names here are quickly invented without\n",
    "# too much thought, so feel free to use other\n",
    "# names or modify the interface\n",
    "\n",
    "# Some initial imports\n",
    "from IPython.display import display\n",
    "import ipywidgets as widgets\n",
    "import numpy as np\n",
    "\n",
    "import pythreejs\n",
    "from pythreejs import Renderer, Scene, Mesh\n",
    "from pythreejs import OrthographicCamera, PerspectiveCamera, OrbitControls"
   ]
  },
  {
   "cell_type": "code",
   "execution_count": 17,
   "metadata": {
    "collapsed": true
   },
   "outputs": [],
   "source": [
    "# Define mesh and attributes directly\n",
    "vertices = np.asarray([\n",
    "    (0.0, 0.0, 0.0),\n",
    "    (1.0, 0.0, 0.0),\n",
    "    (1.0, 1.1, 0.0),\n",
    "    ], dtype=\"float32\")\n",
    "num_vertices = vertices.shape[0]\n",
    "\n",
    "triangles = np.asarray([\n",
    "    (0, 1, 2),\n",
    "    ], dtype=\"int32\")\n",
    "num_triangles = triangles.shape[0]\n",
    "\n",
    "attributes = {}\n",
    "attributes[\"f_front\"] = np.asarray([0.0, 0.1, 0.2], dtype=\"float32\")\n",
    "attributes[\"f_back\"]  = np.asarray([0.9, 0.8, 0.7], dtype=\"float32\")\n",
    "attributes[\"s_front\"] = np.asarray([1.0, 0.5, 0.5], dtype=\"float32\")\n",
    "attributes[\"s_back\"]  = np.asarray([0.0, 0.5, 0.5], dtype=\"float32\")\n",
    "\n",
    "uniforms = {\n",
    "    \"time\": 0.0,\n",
    "    \"f_min\": 0.0,\n",
    "    \"f_max\": 1.0,\n",
    "    #\"color\": [1.0, 1.0, 1.0],\n",
    "    }\n",
    "\n",
    "# TODO: Preintegrated textures\n",
    "\n",
    "# Define shaders directly\n",
    "vertexShader = \"\"\"\n",
    "//attribute vec4 aColor;\n",
    "varying vec4 vColor;\n",
    "\n",
    "void main() {\n",
    "    //vColor = aColor;\n",
    "    vColor = vec4(pow(sin(position.x), 2.0), 0.0, 0.0, 1.0);\n",
    "    gl_Position = projectionMatrix * modelViewMatrix * vec4(position, 1.0);\n",
    "}\n",
    "\"\"\"\n",
    "\n",
    "fragmentShader = \"\"\"\n",
    "uniform float time;\n",
    "uniform float f_min;\n",
    "uniform float f_max;\n",
    "\n",
    "varying vec4 vColor;\n",
    "\n",
    "void main(){\n",
    "    vec2 resolution = vec2(10, 10); // TODO\n",
    "    vec2 uv = gl_FragCoord.xy / resolution.xy;\n",
    "//    vec4 tmpPos = texture2D( texturePosition, uv );\n",
    "\n",
    "    //if (vColor.a < 0.01)\n",
    "    //    discard;\n",
    "\n",
    "    vec4 c = vColor.rgba;\n",
    "    c.r *= sin(time);\n",
    "    c.g *= f_min;\n",
    "    c.b *= f_max;\n",
    "\n",
    "    gl_FragColor = vec4(1.0, sin(uv.x)*sin(uv.y), 0.0, 1.0);\n",
    "}\n",
    "\"\"\""
   ]
  },
  {
   "cell_type": "code",
   "execution_count": 18,
   "metadata": {
    "collapsed": false
   },
   "outputs": [],
   "source": [
    "# Setup widget using THREE.js and WebGL backend for rendering\n",
    "from volrenwidget import *\n",
    "material = VolRenMaterial(\n",
    "    vertexShader=vertexShader,\n",
    "    fragmentShader=fragmentShader,\n",
    "    **uniforms)\n",
    "geometry = VolRenGeometry(\n",
    "    vertices = vertices.tobytes(),\n",
    "    triangles = triangles.tobytes(),\n",
    "    )\n",
    "\n",
    "unused = \"\"\"\n",
    "material.set_shaders(vertex_shader, fragment_shader)\n",
    "material.set_uniforms(uniforms)\n",
    "geometry.set_triangles(coordinates, triangles)\n",
    "geometry.set_attributes(attributes)\n",
    "\"\"\""
   ]
  },
  {
   "cell_type": "code",
   "execution_count": null,
   "metadata": {
    "collapsed": true
   },
   "outputs": [],
   "source": []
  },
  {
   "cell_type": "code",
   "execution_count": 19,
   "metadata": {
    "collapsed": true
   },
   "outputs": [],
   "source": [
    "camera_position = [0, 5, 5]\n",
    "camera_up = [0, 0, 1]\n",
    "\n",
    "def camera_changed(*args):\n",
    "    # This is called on interaction, just need to make sense of args\n",
    "    pass # print(\"Camera changed:\", args)\n",
    "\n",
    "mesh = Mesh(geometry=geometry, material=material)\n",
    "\n",
    "scene = Scene(children=[mesh])\n",
    "\n",
    "camera = PerspectiveCamera(\n",
    "    position=camera_position,\n",
    "    up=camera_up)\n",
    "camera.observe(camera_changed)\n",
    "\n",
    "controller = OrbitControls(controlling=camera)\n",
    "\n",
    "renderer = Renderer(camera=camera,\n",
    "                    scene=scene,\n",
    "                    renderer_type=\"webgl\",\n",
    "                    controls=[controller])"
   ]
  },
  {
   "cell_type": "code",
   "execution_count": 20,
   "metadata": {
    "collapsed": true
   },
   "outputs": [],
   "source": [
    "display(renderer)"
   ]
  },
  {
   "cell_type": "code",
   "execution_count": 8,
   "metadata": {
    "collapsed": true
   },
   "outputs": [],
   "source": [
    "unused = \"\"\"\n",
    "# Setup a fixed dolfin function\n",
    "from dolfin import *\n",
    "mesh = UnitCubeMesh(1, 1, 1)\n",
    "V = FunctionSpace(mesh, \"Lagrange\", 1)\n",
    "e = Expression(\"(x[0]-x0) *(x[1]-x1) * (x[2]-x2)\",\n",
    "               x0=0.5, x1=0.5, x2=0.5, degree=1)\n",
    "f = Function(V)\n",
    "f.interpolate(e)\n",
    "\"\"\"\n",
    "\n",
    "unused = \"\"\"\n",
    "# Compute sorted Projected Tetrahedra triangles\n",
    "from dolfinpt import *\n",
    "pt = ProjectedTetrahedraBuilder()\n",
    "pt.set_mesh(mesh)\n",
    "pt.set_function(f)\n",
    "pt.set_mvp(MVP)\n",
    "\n",
    "\n",
    "# Get shaders from pt object\n",
    "vertex_shader = pt.get_vertex_shader();\n",
    "fragment_shader = pt.get_fragment_shader();\n",
    "\n",
    "# Get coordinates, triangle indices, attributes from pt object\n",
    "coordinates = pt.get_coordinates()\n",
    "triangles = pt.get_triangles()\n",
    "names = pt.get_attribute_names()\n",
    "attributes = { pt.get_attribute(name) for name in pt.get_attribute_names() }\n",
    "uniforms = { pt.get_uniform(name) for name in pt.get_uniform_names() }\n",
    "\"\"\"\n",
    "\n",
    "unused = \"\"\"\n",
    "# Then loop over timesteps and update\n",
    "# display with new function values!\n",
    "for t in np.arange(0.0, 1.0, 10):\n",
    "    e.x0 = 0.5 * t\n",
    "    f.interpolate(e)\n",
    "    pt.update_function(f)\n",
    "\n",
    "    attributes[\"f_front\"][:] = fixme\n",
    "    attributes[\"f_back\"][:] = fixme\n",
    "\n",
    "    vrw.resend([\"f_front\", \"f_back\"])\n",
    "\"\"\""
   ]
  },
  {
   "cell_type": "code",
   "execution_count": 12,
   "metadata": {
    "collapsed": true
   },
   "outputs": [],
   "source": [
    "from pythreejs import Renderer, Scene, Mesh\n",
    "from pythreejs import OrthographicCamera, PerspectiveCamera, OrbitControls\n",
    "\n",
    "from pythreejs import SphereGeometry, LambertMaterial, AmbientLight, DirectionalLight\n",
    "ball = Mesh(geometry=SphereGeometry(radius=1), \n",
    "                                    material=LambertMaterial(color='red'),\n",
    "                                    position=[2, 1, 0])\n",
    "\n",
    "scene = Scene(children=[ball, AmbientLight(color='#777777')])\n",
    "\n",
    "c = PerspectiveCamera(position=[0, 5, 5], up=[0, 0, 1],\n",
    "                      children=[DirectionalLight(color='white', \n",
    "                                                 position=[3, 5, 1], \n",
    "                                                 intensity=0.5)])\n",
    "renderer = Renderer(camera=c, \n",
    "                    scene=scene, \n",
    "                    controls=[OrbitControls(controlling=c)])\n",
    "display(renderer)"
   ]
  }
 ],
 "metadata": {
  "kernelspec": {
   "display_name": "Python 3",
   "language": "python",
   "name": "python3"
  },
  "language_info": {
   "codemirror_mode": {
    "name": "ipython",
    "version": 3
   },
   "file_extension": ".py",
   "mimetype": "text/x-python",
   "name": "python",
   "nbconvert_exporter": "python",
   "pygments_lexer": "ipython3",
   "version": "3.5.2"
  },
  "widgets": {
   "state": {
    "ba216ba5fa454df1be33b92abe80eb7e": {
     "views": [
      {
       "cell_index": 5
      }
     ]
    }
   },
   "version": "1.2.0"
  }
 },
 "nbformat": 4,
 "nbformat_minor": 2
}
